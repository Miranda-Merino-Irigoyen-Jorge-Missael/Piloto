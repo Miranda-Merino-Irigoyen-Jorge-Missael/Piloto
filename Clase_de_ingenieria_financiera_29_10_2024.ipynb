{
  "nbformat": 4,
  "nbformat_minor": 0,
  "metadata": {
    "colab": {
      "provenance": [],
      "authorship_tag": "ABX9TyPbM4EliX0BK+HNX7U5pt4f",
      "include_colab_link": true
    },
    "kernelspec": {
      "name": "python3",
      "display_name": "Python 3"
    },
    "language_info": {
      "name": "python"
    }
  },
  "cells": [
    {
      "cell_type": "markdown",
      "metadata": {
        "id": "view-in-github",
        "colab_type": "text"
      },
      "source": [
        "<a href=\"https://colab.research.google.com/github/Miranda-Merino-Irigoyen-Jorge-Missael/Piloto/blob/main/Clase_de_ingenieria_financiera_29_10_2024.ipynb\" target=\"_parent\"><img src=\"https://colab.research.google.com/assets/colab-badge.svg\" alt=\"Open In Colab\"/></a>"
      ]
    },
    {
      "cell_type": "markdown",
      "source": [
        "# Base de datos conectada a firestone."
      ],
      "metadata": {
        "id": "5GOhMPBG_2Rt"
      }
    },
    {
      "cell_type": "markdown",
      "source": [
        "Para pode correr la conexión es necesario subir el Jysml al colab.\n"
      ],
      "metadata": {
        "id": "wHmd8brdABql"
      }
    },
    {
      "cell_type": "code",
      "source": [
        "import firebase_admin\n",
        "from firebase_admin import credentials\n",
        "\n",
        "cred = credentials.Certificate(\"/content/Ingenieria financiera Merino .json\")\n",
        "firebase_admin.initialize_app(cred)\n"
      ],
      "metadata": {
        "colab": {
          "base_uri": "https://localhost:8080/"
        },
        "id": "zCV-wKg_6Qqn",
        "outputId": "cfdd01c3-31ab-425c-aa27-6d2fe8a9f24d"
      },
      "execution_count": 4,
      "outputs": [
        {
          "output_type": "execute_result",
          "data": {
            "text/plain": [
              "<firebase_admin.App at 0x7870938749d0>"
            ]
          },
          "metadata": {},
          "execution_count": 4
        }
      ]
    },
    {
      "cell_type": "markdown",
      "source": [
        "A continuacón se muestra la colección llamada 'Estudiante'\n"
      ],
      "metadata": {
        "id": "7M91jxuuAaxt"
      }
    },
    {
      "cell_type": "code",
      "source": [
        "from firebase_admin import firestore\n",
        "\n",
        "db = firestore.client()\n",
        "\n",
        "# Get a collection reference\n",
        "users_ref = db.collection('Estudiante')\n",
        "\n",
        "# Get all documents in the collection\n",
        "docs = users_ref.stream()\n",
        "\n",
        "for doc in docs:\n",
        "    print(f'{doc.id} => {doc.to_dict()}')"
      ],
      "metadata": {
        "colab": {
          "base_uri": "https://localhost:8080/"
        },
        "id": "GRZXHizA7fbu",
        "outputId": "95885e63-e49c-4761-e4f2-fbc801bc9382"
      },
      "execution_count": 6,
      "outputs": [
        {
          "output_type": "stream",
          "name": "stdout",
          "text": [
            "student1 => {'name': 'Oscar'}\n",
            "student2 => {'name': 'Felipe'}\n",
            "student3 => {'name': 'Oscar'}\n"
          ]
        }
      ]
    },
    {
      "cell_type": "markdown",
      "source": [
        "Luego esta es la forma para añadir datos a nuestra colección 'Estudiante'"
      ],
      "metadata": {
        "id": "JjGvgmXQAkRM"
      }
    },
    {
      "cell_type": "code",
      "source": [
        "# prompt: Quiero escribir datos en firestone\n",
        "\n",
        "import firebase_admin\n",
        "from firebase_admin import credentials\n",
        "from firebase_admin import firestore\n",
        "\n",
        "db = firestore.client()\n",
        "\n",
        "# Get a collection reference\n",
        "users_ref = db.collection('Estudiante')\n",
        "\n",
        "# Data to be added\n",
        "data = {\n",
        "    'nombre': 'Juan',\n",
        "    'apellido': 'Pérez',\n",
        "    'edad': 25,\n",
        "    # Add more fields as needed\n",
        "}\n",
        "\n",
        "# Add a new document with auto-generated ID\n",
        "doc_ref = users_ref.document(\"Estudiante\")\n",
        "doc_ref.set(data)\n",
        "\n",
        "print(f'Document added with ID: {doc_ref.id}')"
      ],
      "metadata": {
        "colab": {
          "base_uri": "https://localhost:8080/"
        },
        "id": "kMU1wbzu-a7H",
        "outputId": "9bf8900a-8873-49ed-e311-4721ad67ca44"
      },
      "execution_count": 8,
      "outputs": [
        {
          "output_type": "stream",
          "name": "stdout",
          "text": [
            "Document added with ID: Estudiante\n"
          ]
        }
      ]
    },
    {
      "cell_type": "markdown",
      "source": [
        "Se puede verificar que se ha escrito actualizando la pagina de firestone."
      ],
      "metadata": {
        "id": "b_-or-KAAut8"
      }
    }
  ]
}