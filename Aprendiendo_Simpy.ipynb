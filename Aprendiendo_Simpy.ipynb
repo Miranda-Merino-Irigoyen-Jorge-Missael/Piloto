{
  "nbformat": 4,
  "nbformat_minor": 0,
  "metadata": {
    "colab": {
      "provenance": [],
      "authorship_tag": "ABX9TyMQj+k71hA0/fbXAp0kYr3W",
      "include_colab_link": true
    },
    "kernelspec": {
      "name": "python3",
      "display_name": "Python 3"
    },
    "language_info": {
      "name": "python"
    }
  },
  "cells": [
    {
      "cell_type": "markdown",
      "metadata": {
        "id": "view-in-github",
        "colab_type": "text"
      },
      "source": [
        "<a href=\"https://colab.research.google.com/github/Miranda-Merino-Irigoyen-Jorge-Missael/Piloto/blob/main/Aprendiendo_Simpy.ipynb\" target=\"_parent\"><img src=\"https://colab.research.google.com/assets/colab-badge.svg\" alt=\"Open In Colab\"/></a>"
      ]
    },
    {
      "cell_type": "code",
      "execution_count": 1,
      "metadata": {
        "id": "LnWjfnezEBBq"
      },
      "outputs": [],
      "source": [
        "def carro(env): #Se usa la variable de entrada env como referencia del \"enviroment\" o \"entorno\"\n",
        "    while True:\n",
        "        print(f'Inicia el estacionado en: {env.now}') #env.now regresa el tiempo actual de la simulación\n",
        "        duracion_aparcado = 5\n",
        "        yield env.timeout(duracion_aparcado) #se crea el evento de estacionado/aparcado\n",
        "\n",
        "        print(f'Inicia la conducción en: {env.now}')\n",
        "        duracion_conduccion = 2\n",
        "        yield env.timeout(duracion_conduccion) #se crea el evento de conducción"
      ]
    },
    {
      "cell_type": "code",
      "source": [
        "!pip install simpy\n",
        "import simpy"
      ],
      "metadata": {
        "colab": {
          "base_uri": "https://localhost:8080/"
        },
        "id": "HCNC73dUFoZT",
        "outputId": "136f3a97-c087-4a1b-dfd1-e62b33516460"
      },
      "execution_count": 4,
      "outputs": [
        {
          "output_type": "stream",
          "name": "stdout",
          "text": [
            "Collecting simpy\n",
            "  Downloading simpy-4.1.1-py3-none-any.whl.metadata (6.1 kB)\n",
            "Downloading simpy-4.1.1-py3-none-any.whl (27 kB)\n",
            "Installing collected packages: simpy\n",
            "Successfully installed simpy-4.1.1\n"
          ]
        }
      ]
    },
    {
      "cell_type": "code",
      "source": [
        "env = simpy.Environment()\n",
        "env.process(carro(env))"
      ],
      "metadata": {
        "colab": {
          "base_uri": "https://localhost:8080/"
        },
        "id": "rAo1KxbpFyAI",
        "outputId": "aa76cbd1-024c-4046-d4ca-1f49ea4c76cc"
      },
      "execution_count": 7,
      "outputs": [
        {
          "output_type": "execute_result",
          "data": {
            "text/plain": [
              "<Process(carro) object at 0x7dcab01f2cb0>"
            ]
          },
          "metadata": {},
          "execution_count": 7
        }
      ]
    },
    {
      "cell_type": "code",
      "source": [
        "env.run(until=24)"
      ],
      "metadata": {
        "colab": {
          "base_uri": "https://localhost:8080/"
        },
        "id": "PbOlQCpzZv2e",
        "outputId": "f38fcf34-c73c-44b1-8766-fe4ad1dcb8ea"
      },
      "execution_count": 8,
      "outputs": [
        {
          "output_type": "stream",
          "name": "stdout",
          "text": [
            "Inicia el estacionado en: 0\n",
            "Inicia la conducción en: 5\n",
            "Inicia el estacionado en: 7\n",
            "Inicia la conducción en: 12\n",
            "Inicia el estacionado en: 14\n",
            "Inicia la conducción en: 19\n",
            "Inicia el estacionado en: 21\n"
          ]
        }
      ]
    },
    {
      "cell_type": "markdown",
      "source": [
        "Ejemplo del itinerario de Juan:\n"
      ],
      "metadata": {
        "id": "A_iuPvYAulZT"
      }
    },
    {
      "cell_type": "code",
      "source": [
        "class Juan:  # Definimos una clase llamada Juan.\n",
        "    #Definimos el método '__init__' con 'env' como parametro.\n",
        "    def __init__(self, env):\n",
        "      #Hacemos que la variable 'env' (en este caso es el entorno de simulación) se convierta en un atributo de la clase 'Juan'\n",
        "        self.env = env\n",
        "        #Una vez declarado lo anterior podremos acceder al atributo env usando self.env\n",
        "        #Creamos un atributo de la instancia llamado 'acción'#\n",
        "        #Indicamos la acción de este proceso men el entorno y le indicamos que siga el #\n",
        "        #flujo de eventos de la función self.rutina() #\n",
        "        self.accion = env.process(self.rutina())\n",
        "\n",
        "#Definimos un metodo describir la rutina de Juan#\n",
        "    def rutina(self):\n",
        "      #Declaramos el diccionario para pasar de números a día de la semana#\n",
        "        semana = {0: 'Lunes', 1: 'Martes', 2: 'Miércoles', 3: 'Jueves', 4: 'Viernes'}\n",
        "        #Declaramos el bucle infinito para que la rutina se repita todos los días#\n",
        "        while True:\n",
        "          #Calculamos el día actual (self.env.now es el estado actual del entorno)\n",
        "            dia = self.env.now // 24\n",
        "            #Imprimimos el día de la semana de el tiempo donde se encuentre el entorno#\n",
        "            print(f'Día {semana[dia]}')\n",
        "\n",
        "            # Rutina: Antes de ir al trabajo#\n",
        "            #Calculamos la hora actual del momento donde se encuentre el entorno#\n",
        "            hora = self.env.now % 24\n",
        "            print(f'A las {hora} horas Juan está en su casa')  # Imprimimos la hora en la que Juan está en casa.\n",
        "            yield self.env.timeout(8)  # Hacemos que transcurran 8 horas, simulando que Juan pasa este tiempo en casa.\n",
        "\n",
        "            # Llega al trabajo\n",
        "            hora = self.env.now % 24  # Calculamos de nuevo la hora actual después de las 8 horas.\n",
        "            print(f'A las {hora} horas Juan está en su trabajo')  # Imprimimos la hora en la que Juan llega al trabajo.\n",
        "\n",
        "            # A continuación, se maneja la posibilidad de interrupciones mientras trabaja.#\n",
        "            # Recuerde que la estructura 'try:' permite ejecutar codigo estando atento #\n",
        "            # a ciertas interrumpciones #\n",
        "            try:\n",
        "                # Simulamos que Juan trabaja durante 8 horas.\n",
        "                yield self.env.process(self.trabajar(8))  # Iniciamos el proceso `trabajar` que dura 8 horas.\n",
        "            except simpy.Interrupt:  # Si ocurre una interrupción durante las horas de trabajo:\n",
        "                # Juan tiene que ir a la junta de su hija\n",
        "                dia = self.env.now // 24  # Calculamos el día de la interrupción.\n",
        "                hora = self.env.now % 24  # Calculamos la hora de la interrupción.\n",
        "                print(f'A las {hora} horas Juan va a la junta de su hija')  # Imprimimos que Juan va a la junta.\n",
        "                yield self.env.timeout(2)  # Simulamos que la junta dura 2 horas.\n",
        "\n",
        "            # Llega a la casa\n",
        "            hora = self.env.now % 24  # Calculamos la hora actual después de la jornada laboral.\n",
        "            print(f'A las {hora} horas Juan está en su casa\\n')  # Imprimimos la hora en que Juan regresa a casa.\n",
        "            yield self.env.timeout(24 - hora)  # Esperamos el tiempo restante para completar las 24 horas del día.\n",
        "    #Defninimos el proceso de trabajar#\n",
        "    def trabajar(self, duracion):  # Método que simula el tiempo de trabajo de Juan.\n",
        "        yield self.env.timeout(duracion)  # Espera el tiempo especificado en `duracion` (en este caso, 8 horas).\n",
        "#Defninimos el proceso de la junta#\n",
        "def junta(env, persona):\n",
        "  #Indicamos que se haga el proceso cuando el entorno este el martes a medio día#\n",
        "    yield env.timeout(24+12)\n",
        "    persona.accion.interrupt()\n",
        "\n",
        "# Creamos el entorno de simulación 'env', que controlará el tiempo y los eventos de la simulación.\n",
        "env = simpy.Environment()\n",
        "# Creamos una instancia de la clase Juan, llamada 'persona', y le pasamos 'env' para que pueda interactuar con el entorno.\n",
        "persona = Juan(env)\n",
        "# Añadimos el proceso 'junta' al entorno de simulación 'env'. Este proceso representa una interrupción en la rutina de Juan.\n",
        "# Le pasamos 'env' y 'persona' como argumentos para que pueda programar la interrupción en la rutina de Juan.\n",
        "env.process(junta(env, persona))\n",
        "# Ejecutamos la simulación con 'env.run()' y la configuramos para que corra hasta el tiempo 120 en horas.\n",
        "# Durante este tiempo, el entorno avanzará y gestionará los eventos de 'persona' y 'junta'.\n",
        "env.run(until=120)\n"
      ],
      "metadata": {
        "colab": {
          "base_uri": "https://localhost:8080/"
        },
        "id": "TCACohubuszg",
        "outputId": "4c70a06a-55fc-4880-805f-17d8deb98dc8"
      },
      "execution_count": 5,
      "outputs": [
        {
          "output_type": "stream",
          "name": "stdout",
          "text": [
            "Día Lunes\n",
            "A las 0 horas Juan está en su casa\n",
            "A las 8 horas Juan está en su trabajo\n",
            "A las 16 horas Juan está en su casa\n",
            "\n",
            "Día Martes\n",
            "A las 0 horas Juan está en su casa\n",
            "A las 8 horas Juan está en su trabajo\n",
            "A las 12 horas Juan va a la junta de su hija\n",
            "A las 14 horas Juan está en su casa\n",
            "\n",
            "Día Miércoles\n",
            "A las 0 horas Juan está en su casa\n",
            "A las 8 horas Juan está en su trabajo\n",
            "A las 16 horas Juan está en su casa\n",
            "\n",
            "Día Jueves\n",
            "A las 0 horas Juan está en su casa\n",
            "A las 8 horas Juan está en su trabajo\n",
            "A las 16 horas Juan está en su casa\n",
            "\n",
            "Día Viernes\n",
            "A las 0 horas Juan está en su casa\n",
            "A las 8 horas Juan está en su trabajo\n",
            "A las 16 horas Juan está en su casa\n",
            "\n"
          ]
        }
      ]
    },
    {
      "cell_type": "markdown",
      "source": [
        "Otro ejemplo sobre una gasolinera:"
      ],
      "metadata": {
        "id": "8YdgsSEayw0h"
      }
    },
    {
      "cell_type": "code",
      "source": [
        "import simpy\n",
        "from random import random as random\n",
        "from math import log\n",
        "\n",
        "def gasolinera(env, bomba, num, ll, ls):\n",
        "    for i in range(num): #El for es para delimitar en cuanto al número de carros que se van a atender\n",
        "    #Se calcula el tiempo de llegada del carro usando #\n",
        "    #una distribución exponencial inversa #\n",
        "        llegada = -log(random())/ll\n",
        "        #Pausamos la simulación hasta la llegada de un coche#\n",
        "        yield env.timeout(llegada)\n",
        "        #Imprimimos cuando llegue un coche#\n",
        "        print(f'---> Ha llegado el carro {i} en el minuto {round(env.now, 2)}')\n",
        "        #añadimos el prcoeso 'carro' al entorno#\n",
        "        env.process(carro(env, bomba, i, ls))\n",
        "\n",
        "def carro(env, bomba, num, ls):  # Esta función modela el proceso de carga de gasolina para un carro\n",
        "    # Solicitud de carga de gasolina\n",
        "    with bomba.request() as req:  # El carro solicita el recurso 'bomba' para poder cargar gasolina\n",
        "        yield req  # El carro espera hasta que la bomba esté disponible\n",
        "\n",
        "        # Se carga gasolina\n",
        "        print(f'El carro {num} se comienza a cargar en el minuto {round(env.now, 2)}')  # Imprime el inicio de la carga, mostrando el minuto actual\n",
        "        carga = -log(rd()) / ls  # Calcula el tiempo de carga (servicio) utilizando una distribución exponencial\n",
        "        yield env.timeout(carga)  # Pausa la simulación durante el tiempo de carga calculado\n",
        "\n",
        "        print(f'El carro {num} termina de cargar en el minuto {round(env.now, 2)}   --->')  # Imprime cuando la carga ha finalizado, mostrando el minuto actual\n",
        "#Generamos el entorno#\n",
        "entorno = simpy.Environment()\n",
        "#Usando simpy.Resource() crearemos el objeto 'bomba' para que pueda ser usado#\n",
        "bomba = simpy.Resource(entorno, capacity=1)\n",
        "#Procesamos nuestra función de gasolinera en el entorno#\n",
        "entorno.process(gasolinera(entorno, bomba, 7, 1/2, 1/3))\n",
        "#Lo ejecutamos#\n",
        "entorno.run()"
      ],
      "metadata": {
        "colab": {
          "base_uri": "https://localhost:8080/"
        },
        "id": "4OGiiN_hy1gy",
        "outputId": "1f2656cd-9218-43a4-8498-b939786ddbb7"
      },
      "execution_count": 13,
      "outputs": [
        {
          "output_type": "stream",
          "name": "stdout",
          "text": [
            "---> Ha llegado el carro 0 en el minuto 0.3\n",
            "El carro 0 se comienza a cargar en el minuto 0.3\n",
            "---> Ha llegado el carro 1 en el minuto 0.57\n",
            "---> Ha llegado el carro 2 en el minuto 1.53\n",
            "El carro 0 termina de cargar en el minuto 2.65   --->\n",
            "El carro 1 se comienza a cargar en el minuto 2.65\n",
            "---> Ha llegado el carro 3 en el minuto 3.19\n",
            "---> Ha llegado el carro 4 en el minuto 9.16\n",
            "---> Ha llegado el carro 5 en el minuto 9.38\n",
            "El carro 1 termina de cargar en el minuto 9.86   --->\n",
            "El carro 2 se comienza a cargar en el minuto 9.86\n",
            "---> Ha llegado el carro 6 en el minuto 13.12\n",
            "El carro 2 termina de cargar en el minuto 18.95   --->\n",
            "El carro 3 se comienza a cargar en el minuto 18.95\n",
            "El carro 3 termina de cargar en el minuto 23.34   --->\n",
            "El carro 4 se comienza a cargar en el minuto 23.34\n",
            "El carro 4 termina de cargar en el minuto 26.13   --->\n",
            "El carro 5 se comienza a cargar en el minuto 26.13\n",
            "El carro 5 termina de cargar en el minuto 31.45   --->\n",
            "El carro 6 se comienza a cargar en el minuto 31.45\n",
            "El carro 6 termina de cargar en el minuto 31.75   --->\n"
          ]
        }
      ]
    }
  ]
}